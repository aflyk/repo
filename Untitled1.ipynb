{
 "cells": [
  {
   "cell_type": "markdown",
   "id": "e8c92c10",
   "metadata": {},
   "source": [
    "### 1. Сгенерировать датасет при помощи sklearn.datasets.make_regression и обучить линейную модель при помощи градиентного и стохастического градиентного спуска. Нанести среднеквадратичную ошибку для обоих методов на один график, сделать выводы о разнице скорости сходимости каждого из методов.\n",
    "\n"
   ]
  },
  {
   "cell_type": "code",
   "execution_count": null,
   "id": "ce74c76e",
   "metadata": {},
   "outputs": [],
   "source": [
    "2. Модифицировать решение первого задания путем добавления 𝐿2 -регуляризации (в функцию, считающую MSE, нужно добавить норму вектора весов) и сравнить результаты.\n",
    "\n",
    "3 [опция]. Модернизировать решение задания 2, заменив L2 регуляризацию на L1 регуляризацию."
   ]
  },
  {
   "cell_type": "code",
   "execution_count": 4,
   "id": "20278d19",
   "metadata": {},
   "outputs": [],
   "source": [
    "from sklearn.datasets import make_regression\n",
    "import matplotlib.pyplot as plt\n",
    "import numpy as np"
   ]
  },
  {
   "cell_type": "code",
   "execution_count": 5,
   "id": "05d0cfaf",
   "metadata": {},
   "outputs": [],
   "source": [
    "def mse_f(y, y_pred):\n",
    "    err = np.mean((y-y_pred)**2)\n",
    "    return err"
   ]
  },
  {
   "cell_type": "code",
   "execution_count": 6,
   "id": "57b6503b",
   "metadata": {},
   "outputs": [],
   "source": [
    "def dg_model(X,y, iterat, alpha=1e-2):\n",
    "    W=np.zeros(X.shape[1])\n",
    "    n = X.shape[0]\n",
    "    err = []\n",
    "    for i in range(iterat):\n",
    "        y_pred = np.dot(X,W)\n",
    "        err.append([mse_f(y, y_pred)])\n",
    "        W -= alpha/n*2*np.sum(X.T * (y_pred - y),axis=1)\n",
    "        if iterat!=0 and i % (iterat // 10) == 0:\n",
    "            print(i,err[-1])\n",
    "    return W,err"
   ]
  },
  {
   "cell_type": "code",
   "execution_count": 9,
   "id": "ae974282",
   "metadata": {},
   "outputs": [],
   "source": [
    "def sdg_model(X, y, iterat, alpha=0.01):\n",
    "    np.random.seed(42) # задаем начальные условия для генератора чисел\n",
    "    W = np.zeros(X.shape[1]) # задаем веса равные 0 для всех Х\n",
    "    n = X.shape[0] # сохраняем общее кол-во измерений\n",
    "    err = [] # создаем пустой список для сохранения в него результата вычисления среднеквадратичной ошибки\n",
    "    for i in range(iterat): # цикл от 0 до заданной итерации -1\n",
    "        ind = np.random.randint(X.shape[0]) # загадываем случайный индекс (необходимый для реализи стохастического спуска)\n",
    "        x= X[ind] # выбираем строку соответствующую индексу\n",
    "        y_pred = np.dot(x, W) # прогнозируем результаты\n",
    "        err.append(mse_f(y, y_pred)) # расчитываем и добавляем ошибку в список err\n",
    "        W -= alpha/n * 2 * np.dot(x.T,(y_pred - y[ind]))    # пересчитываем веса, по формуле шаг*1/(количество_измерений)*2*(на векторное произведение транспонированного х на разность)\n",
    "        if iterat!=0 and i % (iterat // 10) == 0: # условие позволяющее выводить только 10 шагов из итерации\n",
    "            print(i, err[-1]) # выводим шаг итерации и последнюю высчитаную ошибку\n",
    "    return W, err # возвращаем веса и список ошибок\n"
   ]
  },
  {
   "cell_type": "code",
   "execution_count": 73,
   "id": "1ec24fe6",
   "metadata": {},
   "outputs": [],
   "source": [
    "def sgd_model_copy(X, y, iterations, alpha=1e-4):\n",
    "    w_list = []\n",
    "    w = np.zeros(X.shape[1])\n",
    "    err = []\n",
    "    for i in range(iterations):\n",
    "        # генерируем случайный индекс объекта выборки\n",
    "        train_ind = np.random.randint(X.shape[0])\n",
    "\n",
    "        new_w = w - 2 *alpha * np.dot(X[train_ind].T, (np.dot(X[train_ind], w) - y[train_ind])) / y.shape[0]\n",
    "\n",
    "        weight_dist = np.linalg.norm(new_w - w, ord=2)\n",
    "\n",
    "        w_list.append(new_w.copy())\n",
    "        err.append(mse_f(y,np.dot(X[train_ind], w) ))\n",
    "        w = new_w\n",
    "    \n",
    "    w_list = np.array(w_list)\n",
    "    return w_list, err"
   ]
  },
  {
   "cell_type": "code",
   "execution_count": 11,
   "id": "2bd3052c",
   "metadata": {},
   "outputs": [
    {
     "data": {
      "text/plain": [
       "(1000, 201)"
      ]
     },
     "execution_count": 11,
     "metadata": {},
     "output_type": "execute_result"
    }
   ],
   "source": [
    "X, y = make_regression(n_samples=1000, n_features=200, noise=0.1)\n",
    "some_list = list(X.T)\n",
    "some_list = [[1. for _ in range(X.shape[0])]] + some_list\n",
    "X = np.array(some_list).T\n",
    "X.shape"
   ]
  },
  {
   "cell_type": "code",
   "execution_count": 45,
   "id": "747787c3",
   "metadata": {},
   "outputs": [
    {
     "name": "stdout",
     "output_type": "stream",
     "text": [
      "0 [28959.23369711113]\n",
      "120 [493.51459029565024]\n",
      "240 [43.49589602540773]\n",
      "360 [5.8666765767714555]\n",
      "480 [0.962372431237403]\n",
      "600 [0.18088769110180675]\n",
      "720 [0.04181449377468877]\n",
      "840 [0.015327588556551664]\n",
      "960 [0.010050988559882332]\n",
      "1080 [0.008966200103920038]\n"
     ]
    }
   ],
   "source": [
    "W_dg, err_dg = dg_model(X, y, 1200 )"
   ]
  },
  {
   "cell_type": "code",
   "execution_count": 46,
   "id": "85dba098",
   "metadata": {},
   "outputs": [
    {
     "name": "stdout",
     "output_type": "stream",
     "text": [
      "0 28959.23369711113\n",
      "120 28929.136786111034\n",
      "240 28945.84072153084\n",
      "360 28946.16005101621\n",
      "480 28947.195913633866\n",
      "600 28982.59097894114\n",
      "720 28858.419978121437\n",
      "840 28878.39843246135\n",
      "960 29326.17412455011\n",
      "1080 28940.608050330397\n"
     ]
    }
   ],
   "source": [
    "W_sdg, err_sdg = sdg_model(X, y, 1200)"
   ]
  },
  {
   "cell_type": "code",
   "execution_count": 74,
   "id": "fc0317f0",
   "metadata": {},
   "outputs": [],
   "source": [
    "W_sdgc, err_sdgc= sgd_model_copy(X,y,1200)"
   ]
  },
  {
   "cell_type": "code",
   "execution_count": 75,
   "id": "eed259ad",
   "metadata": {},
   "outputs": [
    {
     "data": {
      "image/png": "[encoded data removed]",
      "text/plain": [
       "<Figure size 432x288 with 1 Axes>"
      ]
     },
     "metadata": {
      "needs_background": "light"
     },
     "output_type": "display_data"
    }
   ],
   "source": [
    "plt.plot(range(len(err_sdg)),err_sdg, )\n",
    "plt.plot(range(len(err_dg)), err_dg, color='r')\n",
    "plt.plot(range(len(err_sdgc)), err_sdgc, color='g')\n",
    "plt.show()"
   ]
  }
 ],
 "metadata": {
  "kernelspec": {
   "display_name": "Python 3 (ipykernel)",
   "language": "python",
   "name": "python3"
  },
  "language_info": {
   "codemirror_mode": {
    "name": "ipython",
    "version": 3
   },
   "file_extension": ".py",
   "mimetype": "text/x-python",
   "name": "python",
   "nbconvert_exporter": "python",
   "pygments_lexer": "ipython3",
   "version": "3.8.10"
  }
 },
 "nbformat": 4,
 "nbformat_minor": 5
}
